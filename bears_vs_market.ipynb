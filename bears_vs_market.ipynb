{
 "cells": [
  {
   "cell_type": "markdown",
   "id": "16e1d1b7",
   "metadata": {},
   "source": [
    "# Build a Bear Workshops vs the S&P 500\n",
    "\n",
    "While scrolling on social media recently, I came across a post with a surprising assertion. Build a Bear Workshop Inc consistently outerperforms leading tech and AI companies in the S&P 500, including giants such as Nvidia and Palantir.\n",
    "\n",
    "This project aims to examine the accuracy of that assertion and explore the underlying factors that may explain such performance."
   ]
  }
 ],
 "metadata": {
  "language_info": {
   "name": "python"
  }
 },
 "nbformat": 4,
 "nbformat_minor": 5
}
